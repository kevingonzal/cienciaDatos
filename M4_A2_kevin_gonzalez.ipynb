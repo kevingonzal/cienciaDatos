{
 "cells": [
  {
   "cell_type": "markdown",
   "id": "f474a6ea",
   "metadata": {},
   "source": [
    "M4 Actividad 2 Ajuste de hiperparámetros\n",
    "\n",
    "Kevin Antonio González Díaz A01338316\n",
    "\n",
    "2 de mayo de 2023"
   ]
  },
  {
   "cell_type": "markdown",
   "id": "6e2a2f12",
   "metadata": {},
   "source": [
    "1.- Revisa con el profesor el material anexo sobre Ajuste de hiperparámetros EvalAjusteHiperparametros.pdf Download EvalAjusteHiperparametros.pdf  y prueba el notebook que puedes bajar de https://www.kaggle.com/amolbhivarkar/knn-for-classification-using-scikit-learnLinks to an external site."
   ]
  },
  {
   "cell_type": "code",
   "execution_count": 2,
   "id": "51a10444",
   "metadata": {},
   "outputs": [
    {
     "data": {
      "text/html": [
       "<div>\n",
       "<style scoped>\n",
       "    .dataframe tbody tr th:only-of-type {\n",
       "        vertical-align: middle;\n",
       "    }\n",
       "\n",
       "    .dataframe tbody tr th {\n",
       "        vertical-align: top;\n",
       "    }\n",
       "\n",
       "    .dataframe thead th {\n",
       "        text-align: right;\n",
       "    }\n",
       "</style>\n",
       "<table border=\"1\" class=\"dataframe\">\n",
       "  <thead>\n",
       "    <tr style=\"text-align: right;\">\n",
       "      <th></th>\n",
       "      <th>Pregnancies</th>\n",
       "      <th>Glucose</th>\n",
       "      <th>BloodPressure</th>\n",
       "      <th>SkinThickness</th>\n",
       "      <th>Insulin</th>\n",
       "      <th>BMI</th>\n",
       "      <th>DiabetesPedigreeFunction</th>\n",
       "      <th>Age</th>\n",
       "      <th>Outcome</th>\n",
       "    </tr>\n",
       "  </thead>\n",
       "  <tbody>\n",
       "    <tr>\n",
       "      <th>0</th>\n",
       "      <td>6</td>\n",
       "      <td>148</td>\n",
       "      <td>72</td>\n",
       "      <td>35</td>\n",
       "      <td>0</td>\n",
       "      <td>33.6</td>\n",
       "      <td>0.627</td>\n",
       "      <td>50</td>\n",
       "      <td>1</td>\n",
       "    </tr>\n",
       "    <tr>\n",
       "      <th>1</th>\n",
       "      <td>1</td>\n",
       "      <td>85</td>\n",
       "      <td>66</td>\n",
       "      <td>29</td>\n",
       "      <td>0</td>\n",
       "      <td>26.6</td>\n",
       "      <td>0.351</td>\n",
       "      <td>31</td>\n",
       "      <td>0</td>\n",
       "    </tr>\n",
       "    <tr>\n",
       "      <th>2</th>\n",
       "      <td>8</td>\n",
       "      <td>183</td>\n",
       "      <td>64</td>\n",
       "      <td>0</td>\n",
       "      <td>0</td>\n",
       "      <td>23.3</td>\n",
       "      <td>0.672</td>\n",
       "      <td>32</td>\n",
       "      <td>1</td>\n",
       "    </tr>\n",
       "    <tr>\n",
       "      <th>3</th>\n",
       "      <td>1</td>\n",
       "      <td>89</td>\n",
       "      <td>66</td>\n",
       "      <td>23</td>\n",
       "      <td>94</td>\n",
       "      <td>28.1</td>\n",
       "      <td>0.167</td>\n",
       "      <td>21</td>\n",
       "      <td>0</td>\n",
       "    </tr>\n",
       "    <tr>\n",
       "      <th>4</th>\n",
       "      <td>0</td>\n",
       "      <td>137</td>\n",
       "      <td>40</td>\n",
       "      <td>35</td>\n",
       "      <td>168</td>\n",
       "      <td>43.1</td>\n",
       "      <td>2.288</td>\n",
       "      <td>33</td>\n",
       "      <td>1</td>\n",
       "    </tr>\n",
       "  </tbody>\n",
       "</table>\n",
       "</div>"
      ],
      "text/plain": [
       "   Pregnancies  Glucose  BloodPressure  SkinThickness  Insulin   BMI  \\\n",
       "0            6      148             72             35        0  33.6   \n",
       "1            1       85             66             29        0  26.6   \n",
       "2            8      183             64              0        0  23.3   \n",
       "3            1       89             66             23       94  28.1   \n",
       "4            0      137             40             35      168  43.1   \n",
       "\n",
       "   DiabetesPedigreeFunction  Age  Outcome  \n",
       "0                     0.627   50        1  \n",
       "1                     0.351   31        0  \n",
       "2                     0.672   32        1  \n",
       "3                     0.167   21        0  \n",
       "4                     2.288   33        1  "
      ]
     },
     "execution_count": 2,
     "metadata": {},
     "output_type": "execute_result"
    }
   ],
   "source": [
    "#Load the necessary python libraries\n",
    "import numpy as np\n",
    "import pandas as pd\n",
    "import matplotlib.pyplot as plt\n",
    "plt.style.use('ggplot')\n",
    "#Load the dataset\n",
    "df = pd.read_csv('https://raw.githubusercontent.com/kevingonzal/cienciaDatos/main/diabetes%203.csv')\n",
    "#Print the first 5 rows of the dataframe.\n",
    "df.head()"
   ]
  },
  {
   "cell_type": "code",
   "execution_count": 3,
   "id": "aafa521b",
   "metadata": {},
   "outputs": [
    {
     "data": {
      "text/plain": [
       "(768, 9)"
      ]
     },
     "execution_count": 3,
     "metadata": {},
     "output_type": "execute_result"
    }
   ],
   "source": [
    "df.shape\n"
   ]
  },
  {
   "cell_type": "code",
   "execution_count": 4,
   "id": "74586aa7",
   "metadata": {},
   "outputs": [],
   "source": [
    "#Let's create numpy arrays for features and target\n",
    "X = df.drop('Outcome',axis=1).values\n",
    "y = df['Outcome'].values"
   ]
  },
  {
   "cell_type": "markdown",
   "id": "9e51e5bb",
   "metadata": {},
   "source": [
    "Let's split the data randomly into training and test set.\n",
    "\n",
    "We will fit/train a classifier on the training set and make predictions on the test set. Then we will compare the predictions with the known labels.\n",
    "\n",
    "Scikit-learn provides facility to split data into train and test set using train_test_split method."
   ]
  },
  {
   "cell_type": "code",
   "execution_count": 5,
   "id": "4928f1db",
   "metadata": {},
   "outputs": [],
   "source": [
    "#importing train_test_split\n",
    "from sklearn.model_selection import train_test_split"
   ]
  },
  {
   "cell_type": "markdown",
   "id": "0ab3e1e7",
   "metadata": {},
   "source": [
    "It is a best practice to perform our split in such a way that out split reflects the labels in the data. In other words, we want labels to be split in train and test set as they are in the original dataset. So we use the stratify argument.\n",
    "\n",
    "Also we create a test set of size of about 40% of the dataset."
   ]
  },
  {
   "cell_type": "code",
   "execution_count": 6,
   "id": "49efa220",
   "metadata": {},
   "outputs": [],
   "source": [
    "X_train,X_test,y_train,y_test = train_test_split(X,y,test_size=0.4,random_state=42, stratify=y)"
   ]
  },
  {
   "cell_type": "markdown",
   "id": "cd508345",
   "metadata": {},
   "source": [
    "Let's create a classifier using k-Nearest Neighbors algorithm.\n",
    "\n",
    "First let us first observe the accuracies for different values of k."
   ]
  },
  {
   "cell_type": "code",
   "execution_count": 7,
   "id": "f4d52e03",
   "metadata": {},
   "outputs": [],
   "source": [
    "#import KNeighborsClassifier\n",
    "from sklearn.neighbors import KNeighborsClassifier\n",
    "\n",
    "#Setup arrays to store training and test accuracies\n",
    "neighbors = np.arange(1,9)\n",
    "train_accuracy =np.empty(len(neighbors))\n",
    "test_accuracy = np.empty(len(neighbors))\n",
    "\n",
    "for i,k in enumerate(neighbors):\n",
    "    #Setup a knn classifier with k neighbors\n",
    "    knn = KNeighborsClassifier(n_neighbors=k)\n",
    "    \n",
    "    #Fit the model\n",
    "    knn.fit(X_train, y_train)\n",
    "    \n",
    "    #Compute accuracy on the training set\n",
    "    train_accuracy[i] = knn.score(X_train, y_train)\n",
    "    \n",
    "    #Compute accuracy on the test set\n",
    "    test_accuracy[i] = knn.score(X_test, y_test) "
   ]
  },
  {
   "cell_type": "code",
   "execution_count": 8,
   "id": "28ce0492",
   "metadata": {},
   "outputs": [
    {
     "data": {
      "image/png": "[encoded data removed]",
      "text/plain": [
       "<Figure size 640x480 with 1 Axes>"
      ]
     },
     "metadata": {},
     "output_type": "display_data"
    }
   ],
   "source": [
    "#Generate plot\n",
    "plt.title('k-NN Varying number of neighbors')\n",
    "plt.plot(neighbors, test_accuracy, label='Testing Accuracy')\n",
    "plt.plot(neighbors, train_accuracy, label='Training Accuracy')\n",
    "plt.legend()\n",
    "plt.xlabel('Number of neighbors')\n",
    "plt.ylabel('Accuracy')\n",
    "plt.show()"
   ]
  },
  {
   "cell_type": "markdown",
   "id": "882178eb",
   "metadata": {},
   "source": [
    "We can observe above that we get maximum testing accuracy for k=7. So lets create a KNeighborsClassifier with number of neighbors as 7."
   ]
  },
  {
   "cell_type": "code",
   "execution_count": 9,
   "id": "41f28ede",
   "metadata": {},
   "outputs": [],
   "source": [
    "#Setup a knn classifier with k neighbors\n",
    "knn = KNeighborsClassifier(n_neighbors=7)"
   ]
  },
  {
   "cell_type": "code",
   "execution_count": 10,
   "id": "e7c35a75",
   "metadata": {},
   "outputs": [
    {
     "data": {
      "text/html": [
       "<style>#sk-container-id-1 {color: black;background-color: white;}#sk-container-id-1 pre{padding: 0;}#sk-container-id-1 div.sk-toggleable {background-color: white;}#sk-container-id-1 label.sk-toggleable__label {cursor: pointer;display: block;width: 100%;margin-bottom: 0;padding: 0.3em;box-sizing: border-box;text-align: center;}#sk-container-id-1 label.sk-toggleable__label-arrow:before {content: \"▸\";float: left;margin-right: 0.25em;color: #696969;}#sk-container-id-1 label.sk-toggleable__label-arrow:hover:before {color: black;}#sk-container-id-1 div.sk-estimator:hover label.sk-toggleable__label-arrow:before {color: black;}#sk-container-id-1 div.sk-toggleable__content {max-height: 0;max-width: 0;overflow: hidden;text-align: left;background-color: #f0f8ff;}#sk-container-id-1 div.sk-toggleable__content pre {margin: 0.2em;color: black;border-radius: 0.25em;background-color: #f0f8ff;}#sk-container-id-1 input.sk-toggleable__control:checked~div.sk-toggleable__content {max-height: 200px;max-width: 100%;overflow: auto;}#sk-container-id-1 input.sk-toggleable__control:checked~label.sk-toggleable__label-arrow:before {content: \"▾\";}#sk-container-id-1 div.sk-estimator input.sk-toggleable__control:checked~label.sk-toggleable__label {background-color: #d4ebff;}#sk-container-id-1 div.sk-label input.sk-toggleable__control:checked~label.sk-toggleable__label {background-color: #d4ebff;}#sk-container-id-1 input.sk-hidden--visually {border: 0;clip: rect(1px 1px 1px 1px);clip: rect(1px, 1px, 1px, 1px);height: 1px;margin: -1px;overflow: hidden;padding: 0;position: absolute;width: 1px;}#sk-container-id-1 div.sk-estimator {font-family: monospace;background-color: #f0f8ff;border: 1px dotted black;border-radius: 0.25em;box-sizing: border-box;margin-bottom: 0.5em;}#sk-container-id-1 div.sk-estimator:hover {background-color: #d4ebff;}#sk-container-id-1 div.sk-parallel-item::after {content: \"\";width: 100%;border-bottom: 1px solid gray;flex-grow: 1;}#sk-container-id-1 div.sk-label:hover label.sk-toggleable__label {background-color: #d4ebff;}#sk-container-id-1 div.sk-serial::before {content: \"\";position: absolute;border-left: 1px solid gray;box-sizing: border-box;top: 0;bottom: 0;left: 50%;z-index: 0;}#sk-container-id-1 div.sk-serial {display: flex;flex-direction: column;align-items: center;background-color: white;padding-right: 0.2em;padding-left: 0.2em;position: relative;}#sk-container-id-1 div.sk-item {position: relative;z-index: 1;}#sk-container-id-1 div.sk-parallel {display: flex;align-items: stretch;justify-content: center;background-color: white;position: relative;}#sk-container-id-1 div.sk-item::before, #sk-container-id-1 div.sk-parallel-item::before {content: \"\";position: absolute;border-left: 1px solid gray;box-sizing: border-box;top: 0;bottom: 0;left: 50%;z-index: -1;}#sk-container-id-1 div.sk-parallel-item {display: flex;flex-direction: column;z-index: 1;position: relative;background-color: white;}#sk-container-id-1 div.sk-parallel-item:first-child::after {align-self: flex-end;width: 50%;}#sk-container-id-1 div.sk-parallel-item:last-child::after {align-self: flex-start;width: 50%;}#sk-container-id-1 div.sk-parallel-item:only-child::after {width: 0;}#sk-container-id-1 div.sk-dashed-wrapped {border: 1px dashed gray;margin: 0 0.4em 0.5em 0.4em;box-sizing: border-box;padding-bottom: 0.4em;background-color: white;}#sk-container-id-1 div.sk-label label {font-family: monospace;font-weight: bold;display: inline-block;line-height: 1.2em;}#sk-container-id-1 div.sk-label-container {text-align: center;}#sk-container-id-1 div.sk-container {/* jupyter's `normalize.less` sets `[hidden] { display: none; }` but bootstrap.min.css set `[hidden] { display: none !important; }` so we also need the `!important` here to be able to override the default hidden behavior on the sphinx rendered scikit-learn.org. See: https://github.com/scikit-learn/scikit-learn/issues/21755 */display: inline-block !important;position: relative;}#sk-container-id-1 div.sk-text-repr-fallback {display: none;}</style><div id=\"sk-container-id-1\" class=\"sk-top-container\"><div class=\"sk-text-repr-fallback\"><pre>KNeighborsClassifier(n_neighbors=7)</pre><b>In a Jupyter environment, please rerun this cell to show the HTML representation or trust the notebook. <br />On GitHub, the HTML representation is unable to render, please try loading this page with nbviewer.org.</b></div><div class=\"sk-container\" hidden><div class=\"sk-item\"><div class=\"sk-estimator sk-toggleable\"><input class=\"sk-toggleable__control sk-hidden--visually\" id=\"sk-estimator-id-1\" type=\"checkbox\" checked><label for=\"sk-estimator-id-1\" class=\"sk-toggleable__label sk-toggleable__label-arrow\">KNeighborsClassifier</label><div class=\"sk-toggleable__content\"><pre>KNeighborsClassifier(n_neighbors=7)</pre></div></div></div></div></div>"
      ],
      "text/plain": [
       "KNeighborsClassifier(n_neighbors=7)"
      ]
     },
     "execution_count": 10,
     "metadata": {},
     "output_type": "execute_result"
    }
   ],
   "source": [
    "#Fit the model\n",
    "knn.fit(X_train,y_train)"
   ]
  },
  {
   "cell_type": "code",
   "execution_count": 11,
   "id": "5c28fa17",
   "metadata": {},
   "outputs": [
    {
     "data": {
      "text/plain": [
       "0.7305194805194806"
      ]
     },
     "execution_count": 11,
     "metadata": {},
     "output_type": "execute_result"
    }
   ],
   "source": [
    "#Get accuracy. Note: In case of classification algorithms score method represents accuracy.\n",
    "knn.score(X_test,y_test)"
   ]
  },
  {
   "cell_type": "code",
   "execution_count": 12,
   "id": "1abf5521",
   "metadata": {},
   "outputs": [
    {
     "data": {
      "text/plain": [
       "array([[165,  36],\n",
       "       [ 47,  60]])"
      ]
     },
     "execution_count": 12,
     "metadata": {},
     "output_type": "execute_result"
    }
   ],
   "source": [
    "#import confusion_matrix\n",
    "from sklearn.metrics import confusion_matrix\n",
    "#let us get the predictions using the classifier we had fit above\n",
    "y_pred = knn.predict(X_test)\n",
    "confusion_matrix(y_test,y_pred)"
   ]
  },
  {
   "cell_type": "markdown",
   "id": "0e15e330",
   "metadata": {},
   "source": [
    "Considering confusion matrix above:\n",
    "\n",
    "True negative = 165\n",
    "\n",
    "False positive = 36\n",
    "\n",
    "True postive = 60\n",
    "\n",
    "Fasle negative = 47\n",
    "\n",
    "Confusion matrix can also be obtained using crosstab method of pandas."
   ]
  },
  {
   "cell_type": "code",
   "execution_count": 13,
   "id": "79dc16f4",
   "metadata": {},
   "outputs": [
    {
     "data": {
      "text/html": [
       "<div>\n",
       "<style scoped>\n",
       "    .dataframe tbody tr th:only-of-type {\n",
       "        vertical-align: middle;\n",
       "    }\n",
       "\n",
       "    .dataframe tbody tr th {\n",
       "        vertical-align: top;\n",
       "    }\n",
       "\n",
       "    .dataframe thead th {\n",
       "        text-align: right;\n",
       "    }\n",
       "</style>\n",
       "<table border=\"1\" class=\"dataframe\">\n",
       "  <thead>\n",
       "    <tr style=\"text-align: right;\">\n",
       "      <th>Predicted</th>\n",
       "      <th>0</th>\n",
       "      <th>1</th>\n",
       "      <th>All</th>\n",
       "    </tr>\n",
       "    <tr>\n",
       "      <th>True</th>\n",
       "      <th></th>\n",
       "      <th></th>\n",
       "      <th></th>\n",
       "    </tr>\n",
       "  </thead>\n",
       "  <tbody>\n",
       "    <tr>\n",
       "      <th>0</th>\n",
       "      <td>165</td>\n",
       "      <td>36</td>\n",
       "      <td>201</td>\n",
       "    </tr>\n",
       "    <tr>\n",
       "      <th>1</th>\n",
       "      <td>47</td>\n",
       "      <td>60</td>\n",
       "      <td>107</td>\n",
       "    </tr>\n",
       "    <tr>\n",
       "      <th>All</th>\n",
       "      <td>212</td>\n",
       "      <td>96</td>\n",
       "      <td>308</td>\n",
       "    </tr>\n",
       "  </tbody>\n",
       "</table>\n",
       "</div>"
      ],
      "text/plain": [
       "Predicted    0   1  All\n",
       "True                   \n",
       "0          165  36  201\n",
       "1           47  60  107\n",
       "All        212  96  308"
      ]
     },
     "execution_count": 13,
     "metadata": {},
     "output_type": "execute_result"
    }
   ],
   "source": [
    "pd.crosstab(y_test, y_pred, rownames=['True'], colnames=['Predicted'], margins=True)"
   ]
  },
  {
   "cell_type": "markdown",
   "id": "6e806e27",
   "metadata": {},
   "source": [
    "Classification Report\n",
    "\n",
    "Another important report is the Classification report. It is a text summary of the precision, recall, F1 score for each class. Scikit-learn provides facility to calculate Classification report using the classification_report method."
   ]
  },
  {
   "cell_type": "code",
   "execution_count": 14,
   "id": "8ee6c2df",
   "metadata": {},
   "outputs": [
    {
     "name": "stdout",
     "output_type": "stream",
     "text": [
      "              precision    recall  f1-score   support\n",
      "\n",
      "           0       0.78      0.82      0.80       201\n",
      "           1       0.62      0.56      0.59       107\n",
      "\n",
      "    accuracy                           0.73       308\n",
      "   macro avg       0.70      0.69      0.70       308\n",
      "weighted avg       0.73      0.73      0.73       308\n",
      "\n"
     ]
    }
   ],
   "source": [
    "#import classification_report\n",
    "from sklearn.metrics import classification_report\n",
    "print(classification_report(y_test,y_pred))\n"
   ]
  },
  {
   "cell_type": "markdown",
   "id": "c7134c6f",
   "metadata": {},
   "source": [
    "ROC (Reciever Operating Charecteristic) curve\n",
    "\n",
    "It is a plot of the true positive rate against the false positive rate for the different possible cutpoints of a diagnostic test.\n",
    "\n",
    "An ROC curve demonstrates several things:\n",
    "\n",
    "1) It shows the tradeoff between sensitivity and specificity (any increase in sensitivity will be accompanied by a decrease in specificity).\n",
    "\n",
    "2) The closer the curve follows the left-hand border and then the top border of the ROC space, the more accurate the test.\n",
    "\n",
    "3)The closer the curve comes to the 45-degree diagonal of the ROC space, the less accurate the test.\n",
    "\n",
    "4) The area under the curve is a measure of test accuracy."
   ]
  },
  {
   "cell_type": "code",
   "execution_count": 15,
   "id": "6dacc1b9",
   "metadata": {},
   "outputs": [
    {
     "data": {
      "image/png": "[encoded data removed]",
      "text/plain": [
       "<Figure size 640x480 with 1 Axes>"
      ]
     },
     "metadata": {},
     "output_type": "display_data"
    }
   ],
   "source": [
    "y_pred_proba = knn.predict_proba(X_test)[:,1]\n",
    "from sklearn.metrics import roc_curve\n",
    "fpr, tpr, thresholds = roc_curve(y_test, y_pred_proba)\n",
    "plt.plot([0,1],[0,1],'k--')\n",
    "plt.plot(fpr,tpr, label='Knn')\n",
    "plt.xlabel('fpr')\n",
    "plt.ylabel('tpr')\n",
    "plt.title('Knn(n_neighbors=7) ROC curve')\n",
    "plt.show()"
   ]
  },
  {
   "cell_type": "code",
   "execution_count": 16,
   "id": "dc6509f3",
   "metadata": {},
   "outputs": [
    {
     "data": {
      "text/plain": [
       "0.7345050448691124"
      ]
     },
     "execution_count": 16,
     "metadata": {},
     "output_type": "execute_result"
    }
   ],
   "source": [
    "#Area under ROC curve\n",
    "from sklearn.metrics import roc_auc_score\n",
    "roc_auc_score(y_test,y_pred_proba)\n"
   ]
  },
  {
   "cell_type": "markdown",
   "id": "e8ee367a",
   "metadata": {},
   "source": [
    "Hyperparameter tuning\n",
    "\n",
    "The value of k (i.e 7) we selected above was selected by observing the curve of accuracy vs number of neighbors. This is a primitive way of hyperparameter tuning.\n",
    "\n",
    "There is a better way of doing it which involves:\n",
    "\n",
    "1) Trying a bunch of different hyperparameter values\n",
    "\n",
    "2) Fitting all of them separately\n",
    "\n",
    "3) Checking how well each performs\n",
    "\n",
    "4) Choosing the best performing one\n",
    "\n",
    "5) Using cross-validation every time\n",
    "\n",
    "Scikit-learn provides a simple way of achieving this using GridSearchCV i.e Grid Search cross-validation."
   ]
  },
  {
   "cell_type": "code",
   "execution_count": 17,
   "id": "74d776db",
   "metadata": {},
   "outputs": [
    {
     "data": {
      "text/html": [
       "<style>#sk-container-id-2 {color: black;background-color: white;}#sk-container-id-2 pre{padding: 0;}#sk-container-id-2 div.sk-toggleable {background-color: white;}#sk-container-id-2 label.sk-toggleable__label {cursor: pointer;display: block;width: 100%;margin-bottom: 0;padding: 0.3em;box-sizing: border-box;text-align: center;}#sk-container-id-2 label.sk-toggleable__label-arrow:before {content: \"▸\";float: left;margin-right: 0.25em;color: #696969;}#sk-container-id-2 label.sk-toggleable__label-arrow:hover:before {color: black;}#sk-container-id-2 div.sk-estimator:hover label.sk-toggleable__label-arrow:before {color: black;}#sk-container-id-2 div.sk-toggleable__content {max-height: 0;max-width: 0;overflow: hidden;text-align: left;background-color: #f0f8ff;}#sk-container-id-2 div.sk-toggleable__content pre {margin: 0.2em;color: black;border-radius: 0.25em;background-color: #f0f8ff;}#sk-container-id-2 input.sk-toggleable__control:checked~div.sk-toggleable__content {max-height: 200px;max-width: 100%;overflow: auto;}#sk-container-id-2 input.sk-toggleable__control:checked~label.sk-toggleable__label-arrow:before {content: \"▾\";}#sk-container-id-2 div.sk-estimator input.sk-toggleable__control:checked~label.sk-toggleable__label {background-color: #d4ebff;}#sk-container-id-2 div.sk-label input.sk-toggleable__control:checked~label.sk-toggleable__label {background-color: #d4ebff;}#sk-container-id-2 input.sk-hidden--visually {border: 0;clip: rect(1px 1px 1px 1px);clip: rect(1px, 1px, 1px, 1px);height: 1px;margin: -1px;overflow: hidden;padding: 0;position: absolute;width: 1px;}#sk-container-id-2 div.sk-estimator {font-family: monospace;background-color: #f0f8ff;border: 1px dotted black;border-radius: 0.25em;box-sizing: border-box;margin-bottom: 0.5em;}#sk-container-id-2 div.sk-estimator:hover {background-color: #d4ebff;}#sk-container-id-2 div.sk-parallel-item::after {content: \"\";width: 100%;border-bottom: 1px solid gray;flex-grow: 1;}#sk-container-id-2 div.sk-label:hover label.sk-toggleable__label {background-color: #d4ebff;}#sk-container-id-2 div.sk-serial::before {content: \"\";position: absolute;border-left: 1px solid gray;box-sizing: border-box;top: 0;bottom: 0;left: 50%;z-index: 0;}#sk-container-id-2 div.sk-serial {display: flex;flex-direction: column;align-items: center;background-color: white;padding-right: 0.2em;padding-left: 0.2em;position: relative;}#sk-container-id-2 div.sk-item {position: relative;z-index: 1;}#sk-container-id-2 div.sk-parallel {display: flex;align-items: stretch;justify-content: center;background-color: white;position: relative;}#sk-container-id-2 div.sk-item::before, #sk-container-id-2 div.sk-parallel-item::before {content: \"\";position: absolute;border-left: 1px solid gray;box-sizing: border-box;top: 0;bottom: 0;left: 50%;z-index: -1;}#sk-container-id-2 div.sk-parallel-item {display: flex;flex-direction: column;z-index: 1;position: relative;background-color: white;}#sk-container-id-2 div.sk-parallel-item:first-child::after {align-self: flex-end;width: 50%;}#sk-container-id-2 div.sk-parallel-item:last-child::after {align-self: flex-start;width: 50%;}#sk-container-id-2 div.sk-parallel-item:only-child::after {width: 0;}#sk-container-id-2 div.sk-dashed-wrapped {border: 1px dashed gray;margin: 0 0.4em 0.5em 0.4em;box-sizing: border-box;padding-bottom: 0.4em;background-color: white;}#sk-container-id-2 div.sk-label label {font-family: monospace;font-weight: bold;display: inline-block;line-height: 1.2em;}#sk-container-id-2 div.sk-label-container {text-align: center;}#sk-container-id-2 div.sk-container {/* jupyter's `normalize.less` sets `[hidden] { display: none; }` but bootstrap.min.css set `[hidden] { display: none !important; }` so we also need the `!important` here to be able to override the default hidden behavior on the sphinx rendered scikit-learn.org. See: https://github.com/scikit-learn/scikit-learn/issues/21755 */display: inline-block !important;position: relative;}#sk-container-id-2 div.sk-text-repr-fallback {display: none;}</style><div id=\"sk-container-id-2\" class=\"sk-top-container\"><div class=\"sk-text-repr-fallback\"><pre>GridSearchCV(cv=5, estimator=KNeighborsClassifier(),\n",
       "             param_grid={&#x27;n_neighbors&#x27;: array([ 1,  2,  3,  4,  5,  6,  7,  8,  9, 10, 11, 12, 13, 14, 15, 16, 17,\n",
       "       18, 19, 20, 21, 22, 23, 24, 25, 26, 27, 28, 29, 30, 31, 32, 33, 34,\n",
       "       35, 36, 37, 38, 39, 40, 41, 42, 43, 44, 45, 46, 47, 48, 49])})</pre><b>In a Jupyter environment, please rerun this cell to show the HTML representation or trust the notebook. <br />On GitHub, the HTML representation is unable to render, please try loading this page with nbviewer.org.</b></div><div class=\"sk-container\" hidden><div class=\"sk-item sk-dashed-wrapped\"><div class=\"sk-label-container\"><div class=\"sk-label sk-toggleable\"><input class=\"sk-toggleable__control sk-hidden--visually\" id=\"sk-estimator-id-2\" type=\"checkbox\" ><label for=\"sk-estimator-id-2\" class=\"sk-toggleable__label sk-toggleable__label-arrow\">GridSearchCV</label><div class=\"sk-toggleable__content\"><pre>GridSearchCV(cv=5, estimator=KNeighborsClassifier(),\n",
       "             param_grid={&#x27;n_neighbors&#x27;: array([ 1,  2,  3,  4,  5,  6,  7,  8,  9, 10, 11, 12, 13, 14, 15, 16, 17,\n",
       "       18, 19, 20, 21, 22, 23, 24, 25, 26, 27, 28, 29, 30, 31, 32, 33, 34,\n",
       "       35, 36, 37, 38, 39, 40, 41, 42, 43, 44, 45, 46, 47, 48, 49])})</pre></div></div></div><div class=\"sk-parallel\"><div class=\"sk-parallel-item\"><div class=\"sk-item\"><div class=\"sk-label-container\"><div class=\"sk-label sk-toggleable\"><input class=\"sk-toggleable__control sk-hidden--visually\" id=\"sk-estimator-id-3\" type=\"checkbox\" ><label for=\"sk-estimator-id-3\" class=\"sk-toggleable__label sk-toggleable__label-arrow\">estimator: KNeighborsClassifier</label><div class=\"sk-toggleable__content\"><pre>KNeighborsClassifier()</pre></div></div></div><div class=\"sk-serial\"><div class=\"sk-item\"><div class=\"sk-estimator sk-toggleable\"><input class=\"sk-toggleable__control sk-hidden--visually\" id=\"sk-estimator-id-4\" type=\"checkbox\" ><label for=\"sk-estimator-id-4\" class=\"sk-toggleable__label sk-toggleable__label-arrow\">KNeighborsClassifier</label><div class=\"sk-toggleable__content\"><pre>KNeighborsClassifier()</pre></div></div></div></div></div></div></div></div></div></div>"
      ],
      "text/plain": [
       "GridSearchCV(cv=5, estimator=KNeighborsClassifier(),\n",
       "             param_grid={'n_neighbors': array([ 1,  2,  3,  4,  5,  6,  7,  8,  9, 10, 11, 12, 13, 14, 15, 16, 17,\n",
       "       18, 19, 20, 21, 22, 23, 24, 25, 26, 27, 28, 29, 30, 31, 32, 33, 34,\n",
       "       35, 36, 37, 38, 39, 40, 41, 42, 43, 44, 45, 46, 47, 48, 49])})"
      ]
     },
     "execution_count": 17,
     "metadata": {},
     "output_type": "execute_result"
    }
   ],
   "source": [
    "#import GridSearchCV\n",
    "from sklearn.model_selection import GridSearchCV\n",
    "#In case of classifier like knn the parameter to be tuned is n_neighbors\n",
    "param_grid = {'n_neighbors':np.arange(1,50)}\n",
    "knn = KNeighborsClassifier()\n",
    "knn_cv= GridSearchCV(knn,param_grid,cv=5)\n",
    "knn_cv.fit(X,y)"
   ]
  },
  {
   "cell_type": "code",
   "execution_count": 18,
   "id": "e87cc5c5",
   "metadata": {},
   "outputs": [
    {
     "data": {
      "text/plain": [
       "0.7578558696205755"
      ]
     },
     "execution_count": 18,
     "metadata": {},
     "output_type": "execute_result"
    }
   ],
   "source": [
    "knn_cv.best_score_\n"
   ]
  },
  {
   "cell_type": "code",
   "execution_count": 19,
   "id": "68791968",
   "metadata": {},
   "outputs": [
    {
     "data": {
      "text/plain": [
       "{'n_neighbors': 14}"
      ]
     },
     "execution_count": 19,
     "metadata": {},
     "output_type": "execute_result"
    }
   ],
   "source": [
    "knn_cv.best_params_"
   ]
  },
  {
   "cell_type": "code",
   "execution_count": 20,
   "id": "2cd803a2",
   "metadata": {},
   "outputs": [
    {
     "data": {
      "text/plain": [
       "{'mean_fit_time': array([0.00107942, 0.00073733, 0.00049458, 0.00043454, 0.00045838,\n",
       "        0.00061073, 0.0005312 , 0.00047669, 0.00043921, 0.00043359,\n",
       "        0.00043573, 0.00043578, 0.00044193, 0.00046816, 0.0004684 ,\n",
       "        0.00044956, 0.00043406, 0.00044012, 0.00042787, 0.00042915,\n",
       "        0.0004283 , 0.00043015, 0.00043373, 0.0004343 , 0.0004271 ,\n",
       "        0.00042772, 0.00042539, 0.00043249, 0.00049138, 0.00047421,\n",
       "        0.00042996, 0.00042896, 0.00042911, 0.0004283 , 0.00043201,\n",
       "        0.00042815, 0.00042825, 0.00042934, 0.00042882, 0.00042725,\n",
       "        0.00042787, 0.00043063, 0.00042739, 0.00042863, 0.00042973,\n",
       "        0.00042953, 0.00042977, 0.00042796, 0.00042696]),\n",
       " 'std_fit_time': array([4.84149362e-04, 1.24447428e-04, 4.93211000e-05, 1.56854059e-05,\n",
       "        6.97894147e-05, 6.67406130e-05, 6.20898011e-05, 2.54170755e-05,\n",
       "        1.25946406e-05, 2.23961231e-06, 2.44817689e-06, 8.33633554e-06,\n",
       "        1.71367075e-05, 1.84065320e-05, 6.83726291e-05, 2.08659712e-05,\n",
       "        3.96836248e-06, 1.26878116e-05, 3.15434178e-06, 3.14495706e-06,\n",
       "        2.97249744e-06, 1.15177644e-05, 1.60754246e-05, 1.11864818e-05,\n",
       "        3.63648910e-06, 4.57366135e-06, 1.39347450e-06, 5.33546476e-06,\n",
       "        6.98070708e-05, 3.25219023e-05, 3.57659656e-06, 2.56518891e-06,\n",
       "        1.60574515e-06, 2.38704510e-06, 9.95094145e-06, 2.33796133e-06,\n",
       "        1.91567511e-06, 2.35250404e-06, 1.79432752e-06, 1.91923254e-06,\n",
       "        2.44352874e-06, 4.63146117e-06, 1.69662923e-06, 2.52048021e-06,\n",
       "        2.35829602e-06, 1.53479356e-06, 2.11427682e-06, 2.48230268e-06,\n",
       "        1.31800413e-06]),\n",
       " 'mean_score_time': array([0.00602536, 0.00480676, 0.00346017, 0.00306044, 0.00333018,\n",
       "        0.00453258, 0.00351563, 0.00332799, 0.0031734 , 0.0032115 ,\n",
       "        0.00325251, 0.00328603, 0.00328751, 0.00351663, 0.00337925,\n",
       "        0.00340905, 0.00331855, 0.00339503, 0.00337434, 0.00334396,\n",
       "        0.00338364, 0.00337334, 0.00345411, 0.00346193, 0.00341525,\n",
       "        0.00342684, 0.00344119, 0.00348563, 0.00376005, 0.00369582,\n",
       "        0.00353417, 0.00355954, 0.00355468, 0.00355754, 0.00359325,\n",
       "        0.00361581, 0.00360513, 0.00362611, 0.00363469, 0.00367942,\n",
       "        0.00366306, 0.00369101, 0.00369821, 0.00372062, 0.00378008,\n",
       "        0.00375466, 0.00375285, 0.00375638, 0.00380201]),\n",
       " 'std_score_time': array([1.76607117e-03, 6.14477476e-04, 3.16981711e-04, 1.48476402e-05,\n",
       "        3.04391994e-04, 1.06701888e-03, 1.86000515e-04, 7.34570080e-05,\n",
       "        3.14095644e-05, 2.02781975e-05, 4.08338019e-05, 6.10576156e-05,\n",
       "        5.15911363e-05, 1.22998701e-04, 1.00808112e-04, 1.20936056e-04,\n",
       "        1.04589424e-05, 9.43369505e-05, 3.25173575e-05, 1.36433769e-05,\n",
       "        3.47983331e-05, 1.97253879e-05, 1.03896087e-04, 6.72300825e-05,\n",
       "        2.56911259e-05, 1.64508129e-05, 1.75548621e-05, 1.92935880e-05,\n",
       "        2.75861873e-04, 1.65053144e-04, 8.25713451e-06, 5.96579123e-05,\n",
       "        2.26337477e-05, 2.13208605e-05, 3.88367400e-05, 4.66846226e-05,\n",
       "        2.21716460e-05, 1.35601287e-05, 2.10576386e-05, 4.43785557e-05,\n",
       "        1.32822903e-05, 1.37320823e-05, 1.86988273e-05, 1.33272360e-05,\n",
       "        1.08481596e-04, 3.34175428e-05, 1.45029063e-05, 1.38443820e-05,\n",
       "        1.37213155e-05]),\n",
       " 'param_n_neighbors': masked_array(data=[1, 2, 3, 4, 5, 6, 7, 8, 9, 10, 11, 12, 13, 14, 15, 16,\n",
       "                    17, 18, 19, 20, 21, 22, 23, 24, 25, 26, 27, 28, 29, 30,\n",
       "                    31, 32, 33, 34, 35, 36, 37, 38, 39, 40, 41, 42, 43, 44,\n",
       "                    45, 46, 47, 48, 49],\n",
       "              mask=[False, False, False, False, False, False, False, False,\n",
       "                    False, False, False, False, False, False, False, False,\n",
       "                    False, False, False, False, False, False, False, False,\n",
       "                    False, False, False, False, False, False, False, False,\n",
       "                    False, False, False, False, False, False, False, False,\n",
       "                    False, False, False, False, False, False, False, False,\n",
       "                    False],\n",
       "        fill_value='?',\n",
       "             dtype=object),\n",
       " 'params': [{'n_neighbors': 1},\n",
       "  {'n_neighbors': 2},\n",
       "  {'n_neighbors': 3},\n",
       "  {'n_neighbors': 4},\n",
       "  {'n_neighbors': 5},\n",
       "  {'n_neighbors': 6},\n",
       "  {'n_neighbors': 7},\n",
       "  {'n_neighbors': 8},\n",
       "  {'n_neighbors': 9},\n",
       "  {'n_neighbors': 10},\n",
       "  {'n_neighbors': 11},\n",
       "  {'n_neighbors': 12},\n",
       "  {'n_neighbors': 13},\n",
       "  {'n_neighbors': 14},\n",
       "  {'n_neighbors': 15},\n",
       "  {'n_neighbors': 16},\n",
       "  {'n_neighbors': 17},\n",
       "  {'n_neighbors': 18},\n",
       "  {'n_neighbors': 19},\n",
       "  {'n_neighbors': 20},\n",
       "  {'n_neighbors': 21},\n",
       "  {'n_neighbors': 22},\n",
       "  {'n_neighbors': 23},\n",
       "  {'n_neighbors': 24},\n",
       "  {'n_neighbors': 25},\n",
       "  {'n_neighbors': 26},\n",
       "  {'n_neighbors': 27},\n",
       "  {'n_neighbors': 28},\n",
       "  {'n_neighbors': 29},\n",
       "  {'n_neighbors': 30},\n",
       "  {'n_neighbors': 31},\n",
       "  {'n_neighbors': 32},\n",
       "  {'n_neighbors': 33},\n",
       "  {'n_neighbors': 34},\n",
       "  {'n_neighbors': 35},\n",
       "  {'n_neighbors': 36},\n",
       "  {'n_neighbors': 37},\n",
       "  {'n_neighbors': 38},\n",
       "  {'n_neighbors': 39},\n",
       "  {'n_neighbors': 40},\n",
       "  {'n_neighbors': 41},\n",
       "  {'n_neighbors': 42},\n",
       "  {'n_neighbors': 43},\n",
       "  {'n_neighbors': 44},\n",
       "  {'n_neighbors': 45},\n",
       "  {'n_neighbors': 46},\n",
       "  {'n_neighbors': 47},\n",
       "  {'n_neighbors': 48},\n",
       "  {'n_neighbors': 49}],\n",
       " 'split0_test_score': array([0.64285714, 0.66883117, 0.68181818, 0.70779221, 0.72727273,\n",
       "        0.70779221, 0.72077922, 0.74025974, 0.74025974, 0.74675325,\n",
       "        0.75324675, 0.74675325, 0.75974026, 0.75974026, 0.73376623,\n",
       "        0.73376623, 0.75324675, 0.75324675, 0.74675325, 0.75974026,\n",
       "        0.75324675, 0.76623377, 0.76623377, 0.75974026, 0.73376623,\n",
       "        0.73376623, 0.72727273, 0.74675325, 0.74675325, 0.75974026,\n",
       "        0.76623377, 0.74675325, 0.74025974, 0.74025974, 0.74675325,\n",
       "        0.73376623, 0.74025974, 0.74675325, 0.74025974, 0.73376623,\n",
       "        0.73376623, 0.74025974, 0.73376623, 0.73376623, 0.74675325,\n",
       "        0.73376623, 0.73376623, 0.73376623, 0.72077922]),\n",
       " 'split1_test_score': array([0.62987013, 0.66883117, 0.69480519, 0.73376623, 0.72727273,\n",
       "        0.72727273, 0.71428571, 0.72077922, 0.71428571, 0.72077922,\n",
       "        0.71428571, 0.72727273, 0.70779221, 0.72077922, 0.68181818,\n",
       "        0.7012987 , 0.68181818, 0.69480519, 0.67532468, 0.68181818,\n",
       "        0.67532468, 0.68831169, 0.68831169, 0.68181818, 0.66883117,\n",
       "        0.68181818, 0.68181818, 0.69480519, 0.69480519, 0.7012987 ,\n",
       "        0.70779221, 0.71428571, 0.72077922, 0.72077922, 0.72727273,\n",
       "        0.72727273, 0.70779221, 0.70779221, 0.71428571, 0.72077922,\n",
       "        0.7012987 , 0.71428571, 0.70779221, 0.70779221, 0.7012987 ,\n",
       "        0.71428571, 0.69480519, 0.7012987 , 0.70779221]),\n",
       " 'split2_test_score': array([0.66883117, 0.71428571, 0.75324675, 0.72077922, 0.7012987 ,\n",
       "        0.72077922, 0.74025974, 0.75974026, 0.75324675, 0.75974026,\n",
       "        0.75324675, 0.75974026, 0.75974026, 0.75974026, 0.73376623,\n",
       "        0.76623377, 0.76623377, 0.75324675, 0.76623377, 0.74675325,\n",
       "        0.73376623, 0.74675325, 0.74025974, 0.75324675, 0.76623377,\n",
       "        0.77272727, 0.76623377, 0.75324675, 0.77922078, 0.75974026,\n",
       "        0.75974026, 0.76623377, 0.75324675, 0.75324675, 0.75974026,\n",
       "        0.75974026, 0.75974026, 0.75324675, 0.75974026, 0.74675325,\n",
       "        0.74025974, 0.72727273, 0.74675325, 0.74025974, 0.75974026,\n",
       "        0.76623377, 0.75974026, 0.77272727, 0.77272727]),\n",
       " 'split3_test_score': array([0.75816993, 0.7254902 , 0.75163399, 0.73856209, 0.75816993,\n",
       "        0.75816993, 0.76470588, 0.79084967, 0.78431373, 0.78431373,\n",
       "        0.80392157, 0.81045752, 0.82352941, 0.81045752, 0.81699346,\n",
       "        0.79738562, 0.82352941, 0.81045752, 0.82352941, 0.80392157,\n",
       "        0.81045752, 0.79738562, 0.79084967, 0.79738562, 0.80392157,\n",
       "        0.77777778, 0.79084967, 0.76470588, 0.77124183, 0.76470588,\n",
       "        0.76470588, 0.75816993, 0.76470588, 0.76470588, 0.75816993,\n",
       "        0.75816993, 0.76470588, 0.74509804, 0.75163399, 0.73856209,\n",
       "        0.75163399, 0.73856209, 0.74509804, 0.73202614, 0.7254902 ,\n",
       "        0.71895425, 0.73856209, 0.73856209, 0.75163399]),\n",
       " 'split4_test_score': array([0.61437908, 0.69281046, 0.68627451, 0.70588235, 0.70588235,\n",
       "        0.7254902 , 0.73856209, 0.73856209, 0.71895425, 0.7124183 ,\n",
       "        0.71895425, 0.71895425, 0.7254902 , 0.73856209, 0.7254902 ,\n",
       "        0.71895425, 0.73202614, 0.73202614, 0.73856209, 0.75163399,\n",
       "        0.74509804, 0.73202614, 0.73202614, 0.7254902 , 0.7124183 ,\n",
       "        0.73856209, 0.73856209, 0.73202614, 0.71895425, 0.74509804,\n",
       "        0.7254902 , 0.74509804, 0.75163399, 0.75816993, 0.75163399,\n",
       "        0.75816993, 0.74509804, 0.74509804, 0.75816993, 0.74509804,\n",
       "        0.75163399, 0.75163399, 0.73856209, 0.73856209, 0.74509804,\n",
       "        0.74509804, 0.75163399, 0.75816993, 0.74509804]),\n",
       " 'mean_test_score': array([0.66282149, 0.69404974, 0.71355573, 0.72135642, 0.72397929,\n",
       "        0.72790086, 0.73571853, 0.7500382 , 0.74221204, 0.74480095,\n",
       "        0.74873101, 0.7526356 , 0.75525847, 0.75785587, 0.73836686,\n",
       "        0.74352771, 0.75137085, 0.74875647, 0.75008064, 0.74877345,\n",
       "        0.74357864, 0.74614209, 0.7435362 , 0.7435362 , 0.73703421,\n",
       "        0.74093031, 0.74094729, 0.73830744, 0.74219506, 0.74611663,\n",
       "        0.74479246, 0.74610814, 0.74612512, 0.74743231, 0.74871403,\n",
       "        0.74742382, 0.74351923, 0.73959766, 0.74481793, 0.73699177,\n",
       "        0.73571853, 0.73440285, 0.73439436, 0.73048128, 0.73567609,\n",
       "        0.7356676 , 0.73570155, 0.74090485, 0.73960615]),\n",
       " 'std_test_score': array([0.05090869, 0.02311487, 0.0320264 , 0.01321973, 0.02016235,\n",
       "        0.01659818, 0.01761547, 0.02384581, 0.02537295, 0.02613019,\n",
       "        0.03212449, 0.03226813, 0.03959871, 0.03006979, 0.04379049,\n",
       "        0.03434726, 0.04613692, 0.03751796, 0.04772389, 0.03913274,\n",
       "        0.04318206, 0.03625897, 0.03448683, 0.0384484 , 0.04603219,\n",
       "        0.03440918, 0.03692855, 0.02417971, 0.03169016, 0.02335145,\n",
       "        0.02375419, 0.01768972, 0.01485347, 0.01555194, 0.01168839,\n",
       "        0.01396602, 0.02000766, 0.01618391, 0.01673561, 0.00934575,\n",
       "        0.01852437, 0.01268111, 0.01409078, 0.01173788, 0.02037704,\n",
       "        0.01877956, 0.02243275, 0.02423157, 0.02297137]),\n",
       " 'rank_test_score': array([49, 48, 47, 46, 45, 44, 36,  6, 25, 18,  9,  3,  2,  1, 32, 23,  4,\n",
       "         8,  5,  7, 20, 13, 21, 21, 34, 28, 27, 33, 26, 15, 19, 16, 14, 11,\n",
       "        10, 12, 24, 31, 17, 35, 36, 41, 42, 43, 39, 40, 38, 29, 30],\n",
       "       dtype=int32)}"
      ]
     },
     "execution_count": 20,
     "metadata": {},
     "output_type": "execute_result"
    }
   ],
   "source": [
    "knn_cv.cv_results_"
   ]
  },
  {
   "cell_type": "markdown",
   "id": "c104198a",
   "metadata": {},
   "source": [
    "Thus a knn classifier with number of neighbors as 14 achieves the best score/accuracy of 0.7578 i.e about 76%"
   ]
  },
  {
   "cell_type": "markdown",
   "id": "6173a7cc",
   "metadata": {},
   "source": [
    "a) Explica qué es \"Estratificado\" al definir una partición entrenamiento/prueba\n",
    "\n",
    "Una partición estratificada es cuando se divide el conjunto de datos en subconjuntos basados en los valores de una variable de interés. Por ejemplo, en nuestro conjunto de datos la clasificación es binaria en el que la variable objetivo outcome es \"0\" o \"1\", y se puede realizar una partición estratificada para asegurarse de que tanto el conjunto de entrenamiento como el conjunto de prueba contengan una proporción similar de casos 0 y 1.\n",
    "\n",
    "\n",
    "b) ¿Puedes utilizar la función pandas.crosstab par? Explica los argumentos utilizados en esta función.\n",
    "\n",
    "Se usa para crear una tabla de frecuencias cruzadas, que muestra la frecuencia en la que aparecen una o varias variables categóricas en relación con otras variables categóricas. Algunos de los argumentos utilizados son index, que es la variable que se utilizará para definir las filas de la tabla. Puede ser una columna del DataFrame o una serie; columns que es la variable que se utilizará para definir las columnas de la tabla y ouede ser una columna del DataFrame o una serie; values (que es opcional) nos dice la variable numérica que se utilizará para calcular los valores de la tabla, si no lo ponemos se mostrará la frecuencia de ocurrencia de las combinaciones de las variables categóricas; aggfunc (que es opcional) nos dice la función que se utilizará para agregar los valores si se especifica la variable values, si no lo especificamos se pone la función len que cuenta las observaciones. Otras funciones que se pueden utilizar incluyen sum, mean, max, min, etc. En nuestro ejemplo nos ayudó a realizar la tablita para la matriz de confusión y sacar los valores verdaderos positivos (TP), TN, FP y FN.\n",
    "\n",
    "\n",
    "c) Explica qué se obtiene al utilizar metrics.classification_report\n",
    "\n",
    "Se obtiene un informe que resume la calidad de las predicciones realizadas por el modelo de aprendizaje, y se basa en comparar las predicciones del modelo con los valores verdaderos de las clases del conjunto de datos de prueba. En el ejemplo de este notebbok nos dio precision,recall, f1-score, support tanto de la clase 0 como de la clase 1, así como su accuracy, para poder medir el rendimiento del modelo.\n",
    "\n",
    "\n",
    "\n",
    "d) ¿Cómo se generó el valor de k que se utilizó en el algoritmo knn? ¿Qué valor se utilizó?\n",
    "\n",
    "Se obtuvo de dos formas distintas: la primera fue un poco más rústica y menos precisa, en donde a través de la gráfica donde se medía el accuracy del modelo KNN variando los valores de k, y visualmente se obtuvo que era con el valor de k=7 donde había un pico máximo.\n",
    "\n",
    "Después a través de probar diferentes hiperparámetros, los hiperparámetros son valores fijos antes del entrenamiento que determinan el comportamiento del modelo. Luego se entrena el modelo con cada conjunto de hiperparámetros diferentes por separado. Se ajustan los hiperparámetros y se entrena el modelo en cada iteración. Se evalúa el rendimiento del modelo para cada conjunto de hiperparámetros diferentes para determinar qué combinación de hiperparámetros funciona mejor. Y ya al final se selecciona el modelo con el mejor rendimiento después de comparar los resultados de cada modelo entrenado con diferentes hiperparámetros. Y de esta forma obtuvimos el mejor score con la función knn_cv.best_score_, y para obtener el número óptimo de k lo sacamos con la función knn_cv.best_params_, y de esta forma obtuvimos el accuracy 0.7578125 con k=14.\n",
    "\n",
    "e) Para qué se utilizó la técnica GridSearchCV? ¿Qué hiperparámetros se definieron en el grid para generar un nuevo modelo knn al usar GridSearchCV? ¿En qué variable se pueden revisar los mejores valores de los hiperparámetros obtenidos al aplicar esta técnica? ¿Qué valores se obtuvieron? ¿En qué variable se puede revisar el valor obtenido por validación cruzada para una métrica dada?\n",
    "\n",
    "La técnica GridSearchCV se utilizó para encontrar el valor óptimo del hiperparámetro n_neighbors de KNN. En el grid  se definió un solo hiperparámetro de n_neighbors con valores de 1 a 49. Esto sirve para encontrar el mejor conjunto de hiperparámetros encontrados. En este caso el mejor valor de n_neighbors lo sacamos con best_params_, y nos dio que era 14. El valor de la mejor puntuación obtenida en la validación cruzada la sacamos con best_score_, que es 0.7578125. Esto significa que el modelo KNN con un valor de k = 14 obtuvo la puntuación media más alta en la validación cruzada de 5 veces. Para ver los resultados de la validación cruzada se puede usar el comando: knn_cv.cv_results_, que ya lo apliqué arriba y se obtuvieron los tiempos promedio de ajuste y evaluación del modelo (mean_fit_time y mean_score_time) y su desviación estándar (std_fit_time), los cuales son útiles para comparar la eficiencia del modelo para los diferentes valores de los hiperparámetros.\n"
   ]
  },
  {
   "cell_type": "markdown",
   "id": "4fe8db95",
   "metadata": {},
   "source": [
    "f) Agrega al notebook el siguiente código\n",
    "   1) Utilizando el modelo knn generado con GridSearchCV realiza la predicción para los casos de prueba. Muestra la matriz de confusión y el reporte de clasificación para esta predicción. ¿Los valores obtenidos de las métricas son mejores? "
   ]
  },
  {
   "cell_type": "code",
   "execution_count": 21,
   "id": "cb358a0c",
   "metadata": {},
   "outputs": [
    {
     "name": "stdout",
     "output_type": "stream",
     "text": [
      "\n",
      "Matriz de confusión:\n",
      "\n",
      " [[180  21]\n",
      " [ 51  56]]\n",
      "\n",
      "\n",
      "Reporte de clasificación:\n",
      "\n",
      "               precision    recall  f1-score   support\n",
      "\n",
      "           0       0.78      0.90      0.83       201\n",
      "           1       0.73      0.52      0.61       107\n",
      "\n",
      "    accuracy                           0.77       308\n",
      "   macro avg       0.75      0.71      0.72       308\n",
      "weighted avg       0.76      0.77      0.76       308\n",
      "\n"
     ]
    }
   ],
   "source": [
    "from sklearn.metrics import confusion_matrix, classification_report\n",
    "\n",
    "\n",
    "y_pred = knn_cv.predict(X_test)\n",
    "\n",
    "confusion = confusion_matrix(y_test, y_pred)\n",
    "print(\"\\nMatriz de confusión:\\n\\n\", confusion)\n",
    "\n",
    "report = classification_report(y_test, y_pred)\n",
    "print(\"\\n\\nReporte de clasificación:\\n\\n\", report)"
   ]
  },
  {
   "cell_type": "markdown",
   "id": "7ebd926c",
   "metadata": {},
   "source": [
    "Podemos ver que aumentó la precisión de la clase q, pasando de 0.62 a 0.73, la sensibilidad aumentó de 0.82 a 0.90 en la clase 0, pero disminuyó un poco para la clase 1. El f1-score de ambas clases aumentó, y el accuracy aumentó de 0.73 a 0.77"
   ]
  },
  {
   "cell_type": "markdown",
   "id": "f75de4c5",
   "metadata": {},
   "source": [
    " 2) Genera los valores fpr, tpr de la curva ROC y su área bajo la curva y grafica los dos modelos en la misma gráfica. Muestra las leyendas que indiquen a qué modelo corresponde cada curva."
   ]
  },
  {
   "cell_type": "code",
   "execution_count": 22,
   "id": "de840879",
   "metadata": {},
   "outputs": [
    {
     "data": {
      "image/png": "[encoded data removed]",
      "text/plain": [
       "<Figure size 640x480 with 1 Axes>"
      ]
     },
     "metadata": {},
     "output_type": "display_data"
    }
   ],
   "source": [
    "from sklearn.metrics import roc_curve, auc\n",
    "\n",
    "knn_cv = KNeighborsClassifier(n_neighbors=14)\n",
    "knn_cv.fit(X_train, y_train)\n",
    "\n",
    "probs = knn_cv.predict_proba(X_test)\n",
    "fpr, tpr, thresholds = roc_curve(y_test, probs[:, 1])\n",
    "roc_auc = auc(fpr, tpr)\n",
    "\n",
    "plt.plot(fpr, tpr, label='KNN (k=14, cv=5), AUC = %0.2f' % roc_auc)\n",
    "plt.plot([0, 1], [0, 1], 'k--')\n",
    "plt.xlabel('fpr')\n",
    "plt.ylabel('tpr')\n",
    "plt.title('Knn(n_neighbors=14) ROC curve')\n",
    "plt.legend(loc=\"lower right\")\n",
    "plt.show()\n"
   ]
  },
  {
   "cell_type": "markdown",
   "id": "ecfa4b19",
   "metadata": {},
   "source": [
    " 3) Genera un nuevo modelo knn usando GridSearchCV pero ahora  considerando el optimizar la métrica de sensibilidad. Para ello, dentro de la estrategia de optimización de hiperparámetros incluye el atributo scoring='recall'. Genera predicciones y revisa el resultado de las métricas para ese modelo, incluyendo curva ROC y AUC.\n",
    " \n",
    " ¿Se puede generar un modelo tratando de optimizar la métrica de precisión? \n",
    " \n",
    " Si, usando scoring='precision'"
   ]
  },
  {
   "cell_type": "code",
   "execution_count": 48,
   "id": "db667b03",
   "metadata": {},
   "outputs": [
    {
     "data": {
      "text/plain": [
       "{'n_neighbors': 9}"
      ]
     },
     "execution_count": 48,
     "metadata": {},
     "output_type": "execute_result"
    }
   ],
   "source": [
    "from sklearn.model_selection import GridSearchCV\n",
    "\n",
    "# Define el rango de valores de n_neighbors a explorar\n",
    "param_grid = {'n_neighbors': np.arange(1,50)}\n",
    "\n",
    "# Define el modelo KNN\n",
    "knn = KNeighborsClassifier()\n",
    "\n",
    "# Define el modelo GridSearchCV con scoring='recall' para sensbilidad\n",
    "knn_cv = GridSearchCV(knn, param_grid, cv=5, scoring='recall')\n",
    "\n",
    "# Entrena el modelo GridSearchCV con los datos de entrenamiento\n",
    "knn_cv.fit(X_train, y_train)\n",
    "\n",
    "# Obtén la mejor combinación de hiperparámetros encontrada\n",
    "knn_cv.best_params_\n"
   ]
  },
  {
   "cell_type": "code",
   "execution_count": 49,
   "id": "c99876b5",
   "metadata": {},
   "outputs": [
    {
     "name": "stdout",
     "output_type": "stream",
     "text": [
      "\n",
      "Matriz de confusión:\n",
      "\n",
      " [[164  37]\n",
      " [ 51  56]]\n",
      "\n",
      "\n",
      "Reporte de clasificación:\n",
      "\n",
      "               precision    recall  f1-score   support\n",
      "\n",
      "           0       0.76      0.82      0.79       201\n",
      "           1       0.60      0.52      0.56       107\n",
      "\n",
      "    accuracy                           0.71       308\n",
      "   macro avg       0.68      0.67      0.67       308\n",
      "weighted avg       0.71      0.71      0.71       308\n",
      "\n"
     ]
    }
   ],
   "source": [
    "y_pred = knn_cv.predict(X_test)\n",
    "\n",
    "confusion = confusion_matrix(y_test, y_pred)\n",
    "print(\"\\nMatriz de confusión:\\n\\n\", confusion)\n",
    "\n",
    "report = classification_report(y_test, y_pred)\n",
    "print(\"\\n\\nReporte de clasificación:\\n\\n\", report)"
   ]
  },
  {
   "cell_type": "code",
   "execution_count": 50,
   "id": "1a09d38e",
   "metadata": {},
   "outputs": [
    {
     "name": "stdout",
     "output_type": "stream",
     "text": [
      "              precision    recall  f1-score   support\n",
      "\n",
      "           0       0.76      0.82      0.79       201\n",
      "           1       0.60      0.52      0.56       107\n",
      "\n",
      "    accuracy                           0.71       308\n",
      "   macro avg       0.68      0.67      0.67       308\n",
      "weighted avg       0.71      0.71      0.71       308\n",
      "\n"
     ]
    }
   ],
   "source": [
    "# Crear el modelo KNN\n",
    "knn = KNeighborsClassifier(n_neighbors=9)\n",
    "\n",
    "# Entrenar el modelo con los datos de entrenamiento\n",
    "\n",
    "knn.fit(X_train, y_train)\n",
    "\n",
    "# Generar predicciones con los datos de prueba\n",
    "\n",
    "y_pred = knn.predict(X_test)\n",
    "\n",
    "# Calcular las métricas\n",
    "\n",
    "print(classification_report(y_test, y_pred))"
   ]
  },
  {
   "cell_type": "code",
   "execution_count": 51,
   "id": "ced40cb8",
   "metadata": {},
   "outputs": [
    {
     "data": {
      "image/png": "[encoded data removed]",
      "text/plain": [
       "<Figure size 640x480 with 1 Axes>"
      ]
     },
     "metadata": {},
     "output_type": "display_data"
    }
   ],
   "source": [
    "knn_cv = KNeighborsClassifier(n_neighbors=9)\n",
    "knn_cv.fit(X_train, y_train)\n",
    "\n",
    "probs = knn_cv.predict_proba(X_test)\n",
    "fpr, tpr, thresholds = roc_curve(y_test, probs[:, 1])\n",
    "roc_auc = auc(fpr, tpr)\n",
    "\n",
    "plt.plot(fpr, tpr, label='KNN (k=9), AUC = %0.2f' % roc_auc)\n",
    "plt.plot([0, 1], [0, 1], 'k--')\n",
    "plt.xlabel('fpr')\n",
    "plt.ylabel('tpr')\n",
    "plt.title('Knn(n_neighbors=9) ROC curve')\n",
    "plt.legend(loc=\"lower right\")\n",
    "plt.show()\n"
   ]
  },
  {
   "cell_type": "markdown",
   "id": "423e6885",
   "metadata": {},
   "source": [
    "   4) Genera ahora un modelo usando la estrategia de búsqueda de hiperparámetros random . Para ver cómo se utiliza te puedes apoyar en el siguiente tutorial https://www.datacamp.com/community/tutorials/parameter-optimization-machine-learning-modelsLinks to an external site. . No tienes que hacer el tutorial, sólo revisar cómo aplicaron RandomSearchCV y aplicarla al modelo kNN. ¿Qué valores se obtuvieron. Realiza la predicción y el reporte. \n",
    "   \n",
    "   ¿RandomSearch te garantiza encontrar los mejores valores de parámetros? No, pero si es útil para buscar muchas combinaciones de parámetros ya que es posible que algunos valores relevantes de los hiperparámetros no sean evaluados durante la búsqueda aleatoria\n",
    "   \n",
    " "
   ]
  },
  {
   "cell_type": "code",
   "execution_count": 60,
   "id": "fbd17f75",
   "metadata": {},
   "outputs": [
    {
     "name": "stdout",
     "output_type": "stream",
     "text": [
      "Best: 0.735677 using {'n_neighbors': 28}\n",
      "Execution time: 0.05505204200744629 ms\n"
     ]
    }
   ],
   "source": [
    "from sklearn.model_selection import RandomizedSearchCV, train_test_split\n",
    "import time\n",
    "\n",
    "# crea el modelo de clasificador KNN\n",
    "knn = KNeighborsClassifier()\n",
    "\n",
    "# define los hiperparámetros a ajustar\n",
    "param_dist = {'n_neighbors': np.arange(1, 20),\n",
    "              'weights': ['uniform', 'distance']}\n",
    "\n",
    "# crea el objeto RandomSearchCV\n",
    "random_search = RandomizedSearchCV(knn, param_distributions=param_grid, cv=3, n_jobs=-1)\n",
    "\n",
    "# entrena el modelo\n",
    "random_search.fit(X_train, y_train)\n",
    "\n",
    "\n",
    "start_time = time.time()\n",
    "random_result = random_search.fit(X, y)\n",
    "# Summarize results\n",
    "print(\"Best: %f using %s\" % (random_result.best_score_, random_result.best_params_))\n",
    "print(\"Execution time: \" + str((time.time() - start_time)) + ' ms')\n"
   ]
  },
  {
   "cell_type": "code",
   "execution_count": 61,
   "id": "7915f42b",
   "metadata": {},
   "outputs": [
    {
     "name": "stdout",
     "output_type": "stream",
     "text": [
      "\n",
      "Matriz de confusión:\n",
      "\n",
      " [[181  20]\n",
      " [ 56  51]]\n",
      "\n",
      "\n",
      "Reporte de clasificación:\n",
      "\n",
      "               precision    recall  f1-score   support\n",
      "\n",
      "           0       0.76      0.90      0.83       201\n",
      "           1       0.72      0.48      0.57       107\n",
      "\n",
      "    accuracy                           0.75       308\n",
      "   macro avg       0.74      0.69      0.70       308\n",
      "weighted avg       0.75      0.75      0.74       308\n",
      "\n"
     ]
    }
   ],
   "source": [
    "y_pred = random_search.predict(X_test)\n",
    "\n",
    "confusion = confusion_matrix(y_test, y_pred)\n",
    "print(\"\\nMatriz de confusión:\\n\\n\", confusion)\n",
    "\n",
    "report = classification_report(y_test, y_pred)\n",
    "print(\"\\n\\nReporte de clasificación:\\n\\n\", report)"
   ]
  },
  {
   "cell_type": "code",
   "execution_count": 62,
   "id": "3fe89fe7",
   "metadata": {},
   "outputs": [
    {
     "data": {
      "image/png": "[encoded data removed]",
      "text/plain": [
       "<Figure size 640x480 with 1 Axes>"
      ]
     },
     "metadata": {},
     "output_type": "display_data"
    }
   ],
   "source": [
    "probs = random_search.predict_proba(X_test)\n",
    "fpr, tpr, thresholds = roc_curve(y_test, probs[:, 1])\n",
    "roc_auc = auc(fpr, tpr)\n",
    "\n",
    "plt.plot(fpr, tpr, label='KNN, AUC = %0.2f' % roc_auc)\n",
    "plt.plot([0, 1], [0, 1], 'k--')\n",
    "plt.xlabel('fpr')\n",
    "plt.ylabel('tpr')\n",
    "plt.title('Knn ROC curve')\n",
    "plt.legend(loc=\"lower right\")\n",
    "plt.show()"
   ]
  }
 ],
 "metadata": {
  "kernelspec": {
   "display_name": "Python 3 (ipykernel)",
   "language": "python",
   "name": "python3"
  },
  "language_info": {
   "codemirror_mode": {
    "name": "ipython",
    "version": 3
   },
   "file_extension": ".py",
   "mimetype": "text/x-python",
   "name": "python",
   "nbconvert_exporter": "python",
   "pygments_lexer": "ipython3",
   "version": "3.10.10"
  }
 },
 "nbformat": 4,
 "nbformat_minor": 5
}
